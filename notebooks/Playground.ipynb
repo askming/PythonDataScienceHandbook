{
 "cells": [
  {
   "cell_type": "markdown",
   "metadata": {},
   "source": [
    "#### Python playground"
   ]
  },
  {
   "cell_type": "code",
   "execution_count": 1,
   "metadata": {},
   "outputs": [
    {
     "name": "stdout",
     "output_type": "stream",
     "text": [
      "1.13.1 0.20.3\n"
     ]
    },
    {
     "data": {
      "text/plain": [
       "'/Users/askming/GitHub/PythonDataScienceHandbook/notebooks'"
      ]
     },
     "execution_count": 1,
     "metadata": {},
     "output_type": "execute_result"
    }
   ],
   "source": [
    "import numpy as np\n",
    "import pandas as pd\n",
    "import os\n",
    "\n",
    "print(np.__version__, pd.__version__)\n",
    "\n",
    "os.get_exec_path()\n",
    "os.getcwd()"
   ]
  },
  {
   "cell_type": "code",
   "execution_count": 8,
   "metadata": {},
   "outputs": [
    {
     "name": "stdout",
     "output_type": "stream",
     "text": [
      "[[1 2 3]\n",
      " [3 4 5]]\n",
      "   0  1  2\n",
      "0  1  2  3\n",
      "1  3  4  5\n"
     ]
    }
   ],
   "source": [
    "A = np.array([1,2,3,3,4, 5]).reshape(2,3)\n",
    "print(A)\n",
    "\n",
    "B = pd.DataFrame(A)\n",
    "print(B)"
   ]
  },
  {
   "cell_type": "code",
   "execution_count": 11,
   "metadata": {},
   "outputs": [
    {
     "name": "stdout",
     "output_type": "stream",
     "text": [
      "['', 'import numpy as np\\nimport pandas as pd', 'import numpy as np\\nimport pandas as pd\\n\\nprint np.__version__', 'import numpy as np\\nimport pandas as pd\\n\\nprint(np.__version__, pd.__version__)', 'A = np.array([1,2,3,3,4, 5], shape = (2,3))\\nprint(A)', 'A = np.array([1,2,3,3,4, 5])\\nprint(A)', 'A = np.array([1,2,3,3,4, 5]).reshape(2,3)\\nprint(A)', 'A = np.array([1,2,3,3,4, 5]).reshape(2,3)\\nprint(A)\\n\\nA = A.dtype({\"name\":(\\'a\\', \\'b\\', \\'c\\')})', 'A = np.array([1,2,3,3,4, 5]).reshape(2,3)\\nprint(A)\\n\\nB = pd.DataFrame(A)\\nprint(B)', 'Print(In)', 'print(In)', 'print(In)\\nprint(len(Out))']\n",
      "0\n"
     ]
    }
   ],
   "source": [
    "print(In)\n",
    "print(len(Out))"
   ]
  },
  {
   "cell_type": "code",
   "execution_count": 52,
   "metadata": {},
   "outputs": [
    {
     "name": "stdout",
     "output_type": "stream",
     "text": [
      "(128, 6)\n",
      "[nan '/ild exacerbation vs decompensating chf'\n",
      " '? ild exacerbation vs decompensating chf'\n",
      " '?ild exacerbation vs decompensating chf'\n",
      " '?ild exacerbation vs decopensating chf' '?ild flare' '?mild ipf flare'\n",
      " 'acute exacerbation' 'acute exacerbation of ipf' 'airway tight'\n",
      " 'alveolar hemorrage/ild exacerbation' 'arthritis'\n",
      " 'aveolar hemorrage/ild exacerbation' 'breathlessness on exertion'\n",
      " 'chest infection' 'chronic hypoxy' 'comfort' 'conditioning' 'copd'\n",
      " 'copd +/- mild ipf flare?' 'copd/ipf' 'cough' 'coughing'\n",
      " 'decline in lung function' 'decreased o2 sats on exertion'\n",
      " 'decreased o2 saturations'\n",
      " 'decreased o2 saturations o/e and increased sob'\n",
      " 'decreased o2 saturations on minimal activity'\n",
      " 'decreased oxygen saturation on exertion' 'desaturation'\n",
      " 'drecreased o2 saturations on exertion' 'dyspnea'\n",
      " 'dyspnea decreased o2 sats on exertion'\n",
      " 'dyspnea decreased o2 saturations' 'dyspnea decreased o2 saturations o/e'\n",
      " 'dyspnea decreased o2 saturations on exertion' 'dyspnea increased'\n",
      " 'dyspnea on exertion' 'dyspnea post pulmonary embolism'\n",
      " 'dyspnea sleep apnea' 'dyspnea, acute exacerbation of ipf'\n",
      " 'dyspnea. decreased o2 saturations'\n",
      " 'dyspnea. decreased o2 saturations on exertion'\n",
      " 'dyspnea/ decreased o2 sats on exertion'\n",
      " 'dyspnea/ decreased o2 saturations '\n",
      " 'dyspnea/ decreased o2 saturations on exertion'\n",
      " 'dyspnea/ drcreased o2 saturation on exertion'\n",
      " 'dyspnea/decreased o2 sats' 'dyspnea/decreased o2 sats on exertion'\n",
      " 'dyspnea/decreased o2 saturations '\n",
      " 'empirical treatmen of acute exacerbation'\n",
      " 'empirical treatment of symptoms of acute exacerbations' 'exacerbation'\n",
      " 'exacerbation ' 'exacerbation of ipf' 'fibrosis' 'gerd' 'gerd/cough'\n",
      " 'hypoxemia' 'hypoxemmia' 'hypoxic respiratory failure'\n",
      " 'idiopathic pulmonary fibrosis' 'idiopathic thrombocytopenia' 'iipf'\n",
      " 'ild' 'ild exacerbation' 'ild flare' 'increase to 10 from 4-6'\n",
      " 'increased cough' 'increased dyspnea' 'ipf' 'ipf '\n",
      " 'ipf acute exacerbation' 'ipf desaturation' 'ipf dyspnea'\n",
      " 'ipf exacerbation' 'ipf exacerbation ' 'ipf flare' 'ipf progression'\n",
      " 'ipf, dyspnea' 'ipf/ sob' 'ipf/copd' 'ipr' 'low oxygenation'\n",
      " 'lower respiratory tract infection' 'lung condition' 'lung disease'\n",
      " 'lung infection' 'mild copd exacerbation' 'mild ild flare'\n",
      " 'mild ipf flare' 'mild ipf flare with component of decompensating chf'\n",
      " 'mild ipf flare with decompensating'\n",
      " 'mild ipf flare with decompensating chf' 'o2 desaturation on exertion'\n",
      " 'obstructive sleep apnea' 'pf increased cough' 'pneumonia'\n",
      " 'possible exacerbation of chronic bronchitis' 'possible ild flare'\n",
      " 'possible ipf flare +/- bronchial infection' 'possible mild ild flare'\n",
      " 'possible mild ipf flare' 'possible respiratory infection'\n",
      " 'preventative measures' 'probable mild ipf exacerbation' 'prophylactic'\n",
      " 'prophylaxis' 'pulmonary fibrosis ' 'pulmonary suprainfection'\n",
      " 'query mild ipf flare' 'resp.tract infection' 'respiratory infection'\n",
      " 'respiratory tract infection' 'rhinitis' 'right sided heart failure'\n",
      " 'sarcoidosis' 'short of breath' 'shortness of breath'\n",
      " 'shortness of breath exacerbation' 'sob' 'sob/increased mucous'\n",
      " 'steroid responsive disease' 'thrombocytopenia' 'to control phlegm'\n",
      " 'upper resp. tract infection' 'upper respiratory tract infection'\n",
      " 'wheeze']\n"
     ]
    }
   ],
   "source": [
    "os.chdir(\"G:\\My Drive\\Portfolio\\Esbriet\\Publications\\\\2019 ATS\\\\2019ATS_analysis\\INSPIRATION PLUS additional analysis\\data cleaning instructions\")\n",
    "# os.getcwd()\n",
    "\n",
    "ipf_meds = pd.read_csv('Ipf_meds_indication_DF.csv')\n",
    "\n",
    "ipf_meds.columns\n",
    "print(ipf_meds.shape)\n",
    "\n",
    "unique_indication = ipf_meds['Indication'].unique()\n",
    "print(unique_indication)\n",
    "# len(unique_indication)\n"
   ]
  },
  {
   "cell_type": "code",
   "execution_count": 56,
   "metadata": {},
   "outputs": [
    {
     "name": "stdout",
     "output_type": "stream",
     "text": [
      "         state     pop\n",
      "CA  California  1000.0\n",
      "TX       Texas     NaN\n",
      "         state     pop   3\n",
      "CA  California  1000.0 NaN\n",
      "TX       Texas     NaN NaN\n"
     ]
    },
    {
     "data": {
      "text/html": [
       "<div>\n",
       "<style scoped>\n",
       "    .dataframe tbody tr th:only-of-type {\n",
       "        vertical-align: middle;\n",
       "    }\n",
       "\n",
       "    .dataframe tbody tr th {\n",
       "        vertical-align: top;\n",
       "    }\n",
       "\n",
       "    .dataframe thead th {\n",
       "        text-align: right;\n",
       "    }\n",
       "</style>\n",
       "<table border=\"1\" class=\"dataframe\">\n",
       "  <thead>\n",
       "    <tr style=\"text-align: right;\">\n",
       "      <th></th>\n",
       "      <th>State</th>\n",
       "      <th>Pop</th>\n",
       "    </tr>\n",
       "  </thead>\n",
       "  <tbody>\n",
       "    <tr>\n",
       "      <th>0</th>\n",
       "      <td>CA</td>\n",
       "      <td>1234</td>\n",
       "    </tr>\n",
       "    <tr>\n",
       "      <th>1</th>\n",
       "      <td>TX</td>\n",
       "      <td>5678</td>\n",
       "    </tr>\n",
       "  </tbody>\n",
       "</table>\n",
       "</div>"
      ],
      "text/plain": [
       "  State   Pop\n",
       "0    CA  1234\n",
       "1    TX  5678"
      ]
     },
     "execution_count": 56,
     "metadata": {},
     "output_type": "execute_result"
    }
   ],
   "source": [
    "pd.isnull(np.nan)\n",
    "state = pd.Series({'CA':'California', 'TX': 'Texas'})\n",
    "pop = pd.Series({'CA': 1e3, 'TX': None})\n",
    "df = pd.DataFrame({'state':state,'pop':pop})\n",
    "print(df)\n",
    "\n",
    "df[pd.notnull(df['pop'])]\n",
    "df[pd.isnull(df['pop'])]\n",
    "\n",
    "df.dropna(axis = 0)\n",
    "df.dropna(axis = 1)\n",
    "\n",
    "df[3] = np.NaN\n",
    "print(df)\n",
    "\n",
    "DF = pd.DataFrame({'State': ['CA', 'TX'], 'Pop': [1234, 5678]})\n",
    "DF"
   ]
  },
  {
   "cell_type": "code",
   "execution_count": 10,
   "metadata": {},
   "outputs": [
    {
     "name": "stdout",
     "output_type": "stream",
     "text": [
      "50\n"
     ]
    }
   ],
   "source": [
    "ls = np.linspace(-1, 11)\n",
    "print(len(ls))\n",
    "# np.linspace?"
   ]
  }
 ],
 "metadata": {
  "kernelspec": {
   "display_name": "Python 3",
   "language": "python",
   "name": "python3"
  },
  "language_info": {
   "codemirror_mode": {
    "name": "ipython",
    "version": 3
   },
   "file_extension": ".py",
   "mimetype": "text/x-python",
   "name": "python",
   "nbconvert_exporter": "python",
   "pygments_lexer": "ipython3",
   "version": "3.6.2"
  }
 },
 "nbformat": 4,
 "nbformat_minor": 2
}
